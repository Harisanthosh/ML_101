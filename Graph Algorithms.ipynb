{
 "cells": [
  {
   "cell_type": "code",
   "execution_count": null,
   "metadata": {},
   "outputs": [],
   "source": [
    "from neo4j import GraphDatabase, basic_auth\n",
    "import nxneo4j"
   ]
  },
  {
   "cell_type": "code",
   "execution_count": null,
   "metadata": {},
   "outputs": [],
   "source": [
    "\n",
    "# You'll need to change these credentials to point to your own Neo4j Server\n",
    "driver = GraphDatabase.driver(\n",
    "    \"bolt://localhost:7687\",\n",
    "    auth=basic_auth(\"neo4j\", \"123graph\"))\n"
   ]
  },
  {
   "cell_type": "code",
   "execution_count": null,
   "metadata": {},
   "outputs": [],
   "source": [
    "with driver.session() as session:\n",
    "    session.run(\"\"\"\\\n",
    "    CREATE CONSTRAINT ON (c:Character)\n",
    "    ASSERT c.name IS UNIQUE\n",
    "    \"\"\")\n",
    "    \n",
    "    session.run(\"\"\"\\\n",
    "    LOAD CSV WITH HEADERS FROM \"https://raw.githubusercontent.com/mathbeveridge/asoiaf/master/data/asoiaf-book1-edges.csv\" AS row\n",
    "    MERGE (src:Character {name: row.Source})\n",
    "    MERGE (tgt:Character {name: row.Target})\n",
    "    // relationship for the book\n",
    "    MERGE (src)-[r:INTERACTS1]->(tgt)\n",
    "    ON CREATE SET r.weight = toInt(row.weight), r.book=1\n",
    "    \"\"\")\n",
    "    \n",
    "    session.run(\"\"\"\\\n",
    "    LOAD CSV WITH HEADERS FROM \"https://raw.githubusercontent.com/mathbeveridge/asoiaf/master/data/asoiaf-book2-edges.csv\" AS row\n",
    "    MERGE (src:Character {name: row.Source})\n",
    "    MERGE (tgt:Character {name: row.Target})\n",
    "    // relationship for the book\n",
    "    MERGE (src)-[r:INTERACTS2]->(tgt)\n",
    "    ON CREATE SET r.weight = toInt(row.weight), r.book=2\n",
    "    \"\"\")  \n",
    "    \n",
    "    session.run(\"\"\"\\\n",
    "    LOAD CSV WITH HEADERS FROM \"https://raw.githubusercontent.com/mathbeveridge/asoiaf/master/data/asoiaf-book3-edges.csv\" AS row\n",
    "    MERGE (src:Character {name: row.Source})\n",
    "    MERGE (tgt:Character {name: row.Target})\n",
    "    // relationship for the book\n",
    "    MERGE (src)-[r:INTERACTS3]->(tgt)\n",
    "    ON CREATE SET r.weight = toInt(row.weight), r.book=3\n",
    "    \"\"\")       \n",
    "    \n",
    "    session.run(\"\"\"\\\n",
    "    LOAD CSV WITH HEADERS FROM \"https://raw.githubusercontent.com/mathbeveridge/asoiaf/master/data/asoiaf-book45-edges.csv\" AS row\n",
    "    MERGE (src:Character {name: row.Source})\n",
    "    MERGE (tgt:Character {name: row.Target})\n",
    "    // relationship for the book\n",
    "    MERGE (src)-[r:INTERACTS45]->(tgt)\n",
    "    ON CREATE SET r.weight = toInt(row.weight), r.book=45\n",
    "    \"\"\")"
   ]
  },
  {
   "cell_type": "code",
   "execution_count": null,
   "metadata": {},
   "outputs": [],
   "source": [
    "config = {\n",
    "    \"node_label\": \"Character\",\n",
    "    \"relationship_type\": None,\n",
    "    \"identifier_property\": \"name\"\n",
    "}\n",
    "G = nxneo4j.Graph(driver, config)"
   ]
  },
  {
   "cell_type": "code",
   "execution_count": null,
   "metadata": {},
   "outputs": [],
   "source": []
  }
 ],
 "metadata": {
  "kernelspec": {
   "display_name": "Python 3",
   "language": "python",
   "name": "python3"
  }
 },
 "nbformat": 4,
 "nbformat_minor": 2
}
