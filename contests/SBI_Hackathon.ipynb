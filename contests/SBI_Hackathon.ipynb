{
  "nbformat": 4,
  "nbformat_minor": 0,
  "metadata": {
    "colab": {
      "name": "SBI_Hackathon.ipynb",
      "provenance": [],
      "collapsed_sections": []
    },
    "kernelspec": {
      "name": "python3",
      "display_name": "Python 3"
    }
  },
  "cells": [
    {
      "cell_type": "code",
      "metadata": {
        "id": "5iOHIYuS36G5",
        "colab_type": "code",
        "outputId": "8c68ec45-1977-4080-be7c-6c6bf9266f0e",
        "colab": {
          "base_uri": "https://localhost:8080/",
          "height": 34
        }
      },
      "source": [
        "import numpy as np"
      ],
      "execution_count": 0,
      "outputs": [
        {
          "output_type": "stream",
          "text": [
            "64\n"
          ],
          "name": "stdout"
        }
      ]
    },
    {
      "cell_type": "markdown",
      "metadata": {
        "id": "fU8U40e-6bW8",
        "colab_type": "text"
      },
      "source": [
        "Installing dependencies to access Python library"
      ]
    },
    {
      "cell_type": "code",
      "metadata": {
        "id": "Y6jeN08E5inn",
        "colab_type": "code",
        "outputId": "4ac6f9e5-c31a-4907-d6a9-f464f4d8e6b3",
        "colab": {
          "base_uri": "https://localhost:8080/",
          "height": 584
        }
      },
      "source": [
        "!pip install tweepy\n",
        "!pip install nsetools"
      ],
      "execution_count": 0,
      "outputs": [
        {
          "output_type": "stream",
          "text": [
            "Requirement already satisfied: tweepy in /usr/local/lib/python3.6/dist-packages (3.6.0)\n",
            "Requirement already satisfied: requests>=2.11.1 in /usr/local/lib/python3.6/dist-packages (from tweepy) (2.21.0)\n",
            "Requirement already satisfied: requests-oauthlib>=0.7.0 in /usr/local/lib/python3.6/dist-packages (from tweepy) (1.2.0)\n",
            "Requirement already satisfied: six>=1.10.0 in /usr/local/lib/python3.6/dist-packages (from tweepy) (1.12.0)\n",
            "Requirement already satisfied: PySocks>=1.5.7 in /usr/local/lib/python3.6/dist-packages (from tweepy) (1.7.0)\n",
            "Requirement already satisfied: certifi>=2017.4.17 in /usr/local/lib/python3.6/dist-packages (from requests>=2.11.1->tweepy) (2019.3.9)\n",
            "Requirement already satisfied: urllib3<1.25,>=1.21.1 in /usr/local/lib/python3.6/dist-packages (from requests>=2.11.1->tweepy) (1.24.3)\n",
            "Requirement already satisfied: idna<2.9,>=2.5 in /usr/local/lib/python3.6/dist-packages (from requests>=2.11.1->tweepy) (2.8)\n",
            "Requirement already satisfied: chardet<3.1.0,>=3.0.2 in /usr/local/lib/python3.6/dist-packages (from requests>=2.11.1->tweepy) (3.0.4)\n",
            "Requirement already satisfied: oauthlib>=3.0.0 in /usr/local/lib/python3.6/dist-packages (from requests-oauthlib>=0.7.0->tweepy) (3.0.1)\n",
            "Collecting nsetools\n",
            "  Downloading https://files.pythonhosted.org/packages/d2/37/1a4443208b73484e35ddaf952678c211decffe211ef8f428b2b496fef52e/nsetools-1.0.10.tar.gz\n",
            "Requirement already satisfied: six in /usr/local/lib/python3.6/dist-packages (from nsetools) (1.12.0)\n",
            "Collecting dateutils (from nsetools)\n",
            "  Downloading https://files.pythonhosted.org/packages/5b/11/246237ce2a1dd87ffebef0e430033f877b31dd208b281914d4fd3c531ee7/dateutils-0.6.6.tar.gz\n",
            "Collecting argparse (from dateutils->nsetools)\n",
            "  Downloading https://files.pythonhosted.org/packages/f2/94/3af39d34be01a24a6e65433d19e107099374224905f1e0cc6bbe1fd22a2f/argparse-1.4.0-py2.py3-none-any.whl\n",
            "Requirement already satisfied: python-dateutil in /usr/local/lib/python3.6/dist-packages (from dateutils->nsetools) (2.5.3)\n",
            "Requirement already satisfied: pytz in /usr/local/lib/python3.6/dist-packages (from dateutils->nsetools) (2018.9)\n",
            "Building wheels for collected packages: nsetools, dateutils\n",
            "  Building wheel for nsetools (setup.py) ... \u001b[?25l\u001b[?25hdone\n",
            "  Stored in directory: /root/.cache/pip/wheels/1d/0e/fa/5411606dd2896153f6a25c92557e0669fcb461d350e2c083ec\n",
            "  Building wheel for dateutils (setup.py) ... \u001b[?25l\u001b[?25hdone\n",
            "  Stored in directory: /root/.cache/pip/wheels/59/7f/14/021981e24cc37ca796f08be16f554c0de9b4922a1c41a2ba05\n",
            "Successfully built nsetools dateutils\n",
            "Installing collected packages: argparse, dateutils, nsetools\n",
            "Successfully installed argparse-1.4.0 dateutils-0.6.6 nsetools-1.0.10\n"
          ],
          "name": "stdout"
        },
        {
          "output_type": "display_data",
          "data": {
            "application/vnd.colab-display-data+json": {
              "pip_warning": {
                "packages": [
                  "argparse"
                ]
              }
            }
          },
          "metadata": {
            "tags": []
          }
        }
      ]
    },
    {
      "cell_type": "code",
      "metadata": {
        "id": "GAycUghQ6kJ4",
        "colab_type": "code",
        "outputId": "4b2f3f1a-3c62-46c0-faa8-3f053b78ca49",
        "colab": {
          "base_uri": "https://localhost:8080/",
          "height": 123
        }
      },
      "source": [
        "!pip install textblob\n",
        "!pip install Tkinter"
      ],
      "execution_count": 0,
      "outputs": [
        {
          "output_type": "stream",
          "text": [
            "Requirement already satisfied: textblob in /usr/local/lib/python3.6/dist-packages (0.15.2)\n",
            "Requirement already satisfied: nltk>=3.1 in /usr/local/lib/python3.6/dist-packages (from textblob) (3.2.5)\n",
            "Requirement already satisfied: six in /usr/local/lib/python3.6/dist-packages (from nltk>=3.1->textblob) (1.11.0)\n",
            "Collecting Tkinter\n",
            "\u001b[31m  Could not find a version that satisfies the requirement Tkinter (from versions: )\u001b[0m\n",
            "\u001b[31mNo matching distribution found for Tkinter\u001b[0m\n"
          ],
          "name": "stdout"
        }
      ]
    },
    {
      "cell_type": "markdown",
      "metadata": {
        "id": "-1EH9zhRA6NH",
        "colab_type": "text"
      },
      "source": [
        "Validating the twitter credentials"
      ]
    },
    {
      "cell_type": "code",
      "metadata": {
        "id": "rT-Zgs__60hg",
        "colab_type": "code",
        "outputId": "dc44c41d-6bcc-4add-d9bf-62a1f6837ec6",
        "colab": {
          "base_uri": "https://localhost:8080/",
          "height": 603
        }
      },
      "source": [
        "import tweepy\n",
        "from time import sleep\n",
        "from datetime import datetime\n",
        "from textblob import TextBlob #For Sentiment Analysis\n",
        "import matplotlib.pyplot as plt #For Graphing the Data\n",
        "\n",
        "consumer_key = 'q1KmI6l5AWlLB13iBOguFKgLj'\n",
        "consumer_secret = 'Ux2Ya46SjBxRwLKxu2haF6KDSZAt1EdF8AMHe6vPYE2GWWz9Mw'\n",
        "access_token = '149092132-sQqz0y4xCzYjnZGnhsFSL2VguynIZ7FStPh1BmDB'\n",
        "access_token_secret = 'oSNJnMhC2DGGX4DWpQRkDagrvl9i3j35U2mkfCQJAu3nA'\n",
        "auth = tweepy.OAuthHandler(consumer_key, consumer_secret)\n",
        "auth.set_access_token(access_token, access_token_secret)\n",
        "api = tweepy.API(auth)\n",
        "\n",
        "public_tweets = api.home_timeline()\n",
        "for tweet in public_tweets:\n",
        "    print(tweet.text)\n",
        "    \n",
        "\n",
        "#Searching for sbi\n"
      ],
      "execution_count": 0,
      "outputs": [
        {
          "output_type": "stream",
          "text": [
            "4 ways to use #blockchain in the #SupplyChain 👉 https://t.co/kzIpLBGhv9\n",
            "————\n",
            "#DigitalTransformation #IoT #Sensors… https://t.co/MtXGaFdrkf\n",
            "Perfect read! Become your own master! Better than #TheSecretBookSeries with a practical approach. https://t.co/7sUtsxV7sm\n",
            "RT @Rodriqu50309687: @PaulMDomenick True Paul. That's dangerous to your mental, spiritual and emotional health. Never rely on the opinions…\n",
            "Minecraft is teaching an AI system how to be good at a lot of tasks. https://t.co/zw8kX6Drl6\n",
            "RT @ChelseaGomez42: My relationship will always be private, but I will never keep my partner a secret. There’s a big difference between pri…\n",
            "Java programmer at Stratesys (Madrid, Spain) https://t.co/7agSFKXUL1 #java\n",
            "U-Lace No-Tie Sneaker Laces. Our laces turn lace-up sneakers into hassle-free one-of-a-kind slip-ons. https://t.co/Z6UxAHIKlt\n",
            "What a CEO needs to know about Machine Learning algorithms https://t.co/NUFQk2HNM5\n",
            "RT @Aravind56898077: #SirajRaval Care to explain? \n",
            "\n",
            "#100DaysOfMLCode  #Netflix #100DAYSOFCODE \n",
            "@netflix\n",
            "  #AIforHumans https://t.co/adta55x…\n",
            "#DigitalTransformation of #finance unleashes analytical minds: https://t.co/eKzxTbSJbt\n",
            "———\n",
            "#BigData #Analytics… https://t.co/BeuOw9NXGj\n",
            "It’s perfectly possible to be good at more than one thing in your life, or to be good at multiple things simultaneo… https://t.co/iK476S5coq\n",
            "Book: Machine Learning with R - Second Edition https://t.co/ghSrytUZdV\n",
            "Here are the 22 companies from Alchemist Accelerator’s Demo Day XXII https://t.co/Fuj9dLmuFC by @grg https://t.co/Z7oDmZwkkE\n",
            "Analista programador .Net - Sector Transporte I+D at EXCELTIC (Madrid, Spain) https://t.co/EHpmWtVH0K #dotnet\n",
            "Think of all the times in history when some group gave in to the temptation to say that some person could fix every… https://t.co/xEhIyEmsnu\n",
            "Start Your Own Home Based CBD Business Now. Watch This Video Before You Buy or Sell CBD Oil. https://t.co/8rAblTaof1\n",
            "YOUR 6E WIDTH TOO TIGHT? Ladies and Men need wider than 6E-9E 10E 14E &amp; Free Inserts $240.00 value https://t.co/GfUadEh4Mu\n",
            "The ‘Nice’ Guy\n",
            "\n",
            "-Tries to please everyone, but pleases no one\n",
            "-Gives away his time freely to others\n",
            "-Can’t say no\n",
            "-… https://t.co/NHaA0CI3YG\n",
            "https://t.co/qFb61hlQaJ\n",
            "Could A Scalp-Zapping Cap Help Reverse Male Balding? https://t.co/fxTpbiKX4Y\n"
          ],
          "name": "stdout"
        }
      ]
    },
    {
      "cell_type": "markdown",
      "metadata": {
        "id": "gBKcXbZMKzCT",
        "colab_type": "text"
      },
      "source": [
        "Create a Stream Listener class and pass the company's name to access\n",
        "and retrieve the tweet"
      ]
    },
    {
      "cell_type": "code",
      "metadata": {
        "id": "LZ4TyW-hA92h",
        "colab_type": "code",
        "colab": {}
      },
      "source": [
        "class MyStreamListener(tweepy.StreamListener):\n",
        "\n",
        "    def on_status(self, status):\n",
        "        print(status.text)\n",
        "        \n",
        "    def on_error(self, status_code):\n",
        "        if status_code == 420:\n",
        "            #returning False in on_data disconnects the stream\n",
        "            return False\n",
        "        \n",
        "myStreamListener = MyStreamListener()\n",
        "myStream = tweepy.Stream(auth = api.auth, listener=myStreamListener)\n",
        "myStream.filter(track=['sbi'], async=True)                        \n",
        "                      "
      ],
      "execution_count": 0,
      "outputs": []
    },
    {
      "cell_type": "code",
      "metadata": {
        "colab_type": "code",
        "outputId": "16deca42-288d-4c45-c37c-26fc168436a0",
        "id": "Tf2uTIlAPTt6",
        "colab": {
          "base_uri": "https://localhost:8080/",
          "height": 196
        }
      },
      "source": [
        "import re   \n",
        "def clean_tweet(tweet):\n",
        "  #Removes the @ and RT other special characters from the tweets\n",
        "  return ' '.join(re.sub(\"(@[A-Za-z0-9]+)|([^0-9A-Za-z \\t])|(\\w+:\\/\\/\\S+)|(^RT)\", \" \", tweet).split())\n",
        "  \n",
        "\n",
        "#query = 'Verizon'\n",
        "print(\"Enter the company name to analyze with commas \\n\")\n",
        "query = input()\n",
        "print(\"Enter the number of latest tweets to scrap\")\n",
        "max_tweets = int(input())\n",
        "model_query = {}\n",
        "companies = query.split(\",\")\n",
        "print(companies)\n",
        "for iter in range(len(companies)):\n",
        "  model_text = []\n",
        "  searched_tweets = [status for status in tweepy.Cursor(api.search, q=companies[iter], tweet_mode='extended').items(max_tweets)]\n",
        "  for i in range(len(searched_tweets)):\n",
        "    model_text.append(clean_tweet(searched_tweets[i].full_text))\n",
        "    #print(model_text[i])\n",
        "  model_query[companies[iter]] = model_text\n",
        "\n",
        "  \n",
        "print(model_query)"
      ],
      "execution_count": 0,
      "outputs": [
        {
          "output_type": "stream",
          "text": [
            "Enter the company name to analyze with commas \n",
            "\n",
            "@nsitharaman   Meadem ! My sister Educational Loan Applaied for 23/02/2018. SBI. Jolarpettai Branch, at Vellore (Dt… https://t.co/dYjqVaLN8G\n",
            "RT @Rasmita26048673: @Yash_Dasgupta  amra sbi wait kre thkbo ei new juti kapate as6e priyash juti all the best YD am really vry vry excited…\n",
            "KhazanaOfficial, PypAyurved, Balco_India, Ninlsteel, MotherDairyMilk, NuvocoVistas, Religare_REL,SPMLINFRA, fbb_india\n",
            "Enter the number of latest tweets to scrap\n",
            "15\n",
            "['KhazanaOfficial', ' PypAyurved', ' Balco_India', ' Ninlsteel', ' MotherDairyMilk', ' NuvocoVistas', ' Religare_REL', 'SPMLINFRA', ' fbb_india']\n",
            "{'KhazanaOfficial': ['Embellished with brilliant diamonds this stunning necklace is precisely crafted to accentuate your beauty Explore Khazana stores amp witness all of our finest craftsmanship Visit today KhazanaJewellery Jewellery Gold Diamond GoldJewellery DiamondJewellery Craftmanship', 'Khazana Jewellery offers mesmerising jewellery designs at the lowest wastage Walk in our Khazana stores and witness our collection today Hurry KhazanaJewellery Jewelry Jewellery Gold Diamond SouthIndianJewellery IndianJewellery GoldJewellery LowestWastage', 'for'], ' PypAyurved': ['', 'Kuch bjp ke liye or kuch ristedaro ke liye bhi hota hai', '5000000', '100', 'bstpyp', '5000000', '', 'Navratri Special Spread the blissful aroma all around with us Patanjali Products is offering great deal and discounts on', '50', '', '50', '100', 'official Balkrishna bstp', '50', '5000000'], ' Balco_India': ['India Yes', 'India One of the award recipient is praveen always so refreshing to see ex colleagues', 'Always felt proud to be associated and worked with companies like India The company s are focused towards sustainable mining and livelihood opportunities for the society', 'India Congratulations From GoaMining People', 'BALCO won the 3rd Prize under Sustainable Mining Practices in Mining Mazma 2019 a Mining exploration convention and Trade show organized by Federation of Indian Mineral Industries FIMI at the International Exhibition Centre in Bengaluru', 'BALCO wards have shown excellent performance in the 17th Chhattisgarh State Taekwondo Championships 2019 held in Ambikapur Balco wards won 1 Gold 4 Silver and 6 Bronze Medals Balco Family congratulates the excellent participation by the team Vedanta', 'VICTORY SesaGoaIronOre Bags 1st Prize For Sustainable Mining Stall At Mining Mazma 2019 Vedanta', 'VICTORY SesaGoaIronOre Bags 1st Prize For Sustainable Mining Stall At Mining Mazma 2019 Vedanta', 'VICTORY SesaGoaIronOre Bags 1st Prize For Sustainable Mining Stall At Mining Mazma 2019 Vedanta', 'VICTORY SesaGoaIronOre Bags 1st Prize For Sustainable Mining Stall At Mining Mazma 2019 Vedanta', 'VICTORY SesaGoaIronOre Bags 1st Prize For Sustainable Mining Stall At Mining Mazma 2019 Vedanta', 'VICTORY SesaGoaIronOre Bags 1st Prize For Sustainable Mining Stall At Mining Mazma 2019 Vedanta', 'VICTORY SesaGoaIronOre Bags 1st Prize For Sustainable Mining Stall At Mining Mazma 2019 Vedanta', 'VICTORY SesaGoaIronOre Bags 1st Prize For Sustainable Mining Stall At Mining Mazma 2019 Vedanta', 'VICTORY SesaGoaIronOre Bags 1st Prize For Sustainable Mining Stall At Mining Mazma 2019 Vedanta'], ' Ninlsteel': ['Hope the Outstanding Payment of M s Oswal Machinery Limited Gujarat State has been cleared now', 'Odisha Odisha', 'Odisha Odisha This is the need of the hour Govt should come forward for making of a giant state owned steel company for better viability and global competitiveness'], ' MotherDairyMilk': ['When somebody challenges your marketing strategy Head on But when we buy milk do we really care that the company is initiative of which B school guys Is this a agency goof up or an intentional Act by the promoters', 'What s stopping Coop amp other players Why don t they switch from plastic Switching to reusible', 'What s stopping Coop amp other players Why don t they switch from plastic Switching to reusible glass bottles geeta gyan PlasticFreeIndia', 'Bringing the world closer one bite at a time InternationalDayOfPeace', 'Don t let this chance to save earth meltaway InternationalDayOfPeace', 'Onion 80 is beyond reach of common people all supply going to Hotel amp Restaurant pls CHK', 'Don t let this chance to save earth meltaway InternationalDayOfPeace', 'The only peace maker you need InternationalDayOfPeace P S Tea tastes best with Mother Dairy Super T Milk', 'Don t let this chance to save earth meltaway InternationalDayOfPeace', 'The only peace maker you need InternationalDayOfPeace P S Tea tastes best with Mother Dairy Super T Milk', 'sewa Coop G07', 'sewa', 'sewa Coop G07', 'sewa Coop G07 1 e g leaders actors etc', 'sewa Coop G07'], ' NuvocoVistas': ['The Khodaldham Temple in Rajkot is renowned across the country as one of the largest comprehensive Hindu temples Nuvoco', 'Nuvoco recently delivered Instamix inside five cinema halls of Inox theatre at Inorbit Mall Mumbai The job had to be do', 'Nuvoco recently delivered Instamix inside five cinema halls of Inox theatre at Inorbit Mall Mumbai The job had to be do', 'Nuvoco recently delivered Instamix inside five cinema halls of Inox theatre at Inorbit Mall Mumbai The job had to be do', 'The Khodaldham Temple in Rajkot is renowned across the country as one of the largest comprehensive Hindu temples Nuvoco', 'Nuvoco recently delivered Instamix inside five cinema halls of Inox theatre at Inorbit Mall Mumbai The job had to be do', 'Kehna kya chate ho', 'Before the development of radar in World War II the British Army used concrete to detect enemy aircrafts They erected p', 'The Khodaldham Temple in Rajkot is renowned across the country as one of the largest comprehensive Hindu temples Nuvoco', 'Nuvoco recently delivered Instamix inside five cinema halls of Inox theatre at Inorbit Mall Mumbai The job had to be do', 'Can t understand anything from the pic though', 'Nuvoco recently delivered Instamix inside five cinema halls of Inox theatre at Inorbit Mall Mumbai The job had to be do', 'Appreciate if you share more details on rahulhere25 com or reach me on 7796658008', 'The Khodaldham Temple in Rajkot is renowned across the country as one of the largest comprehensive Hindu temples Nuvoco', 'Nuvoco recently delivered Instamix inside five cinema halls of Inox theatre at Inorbit Mall Mumbai The job had to be do'], ' Religare_REL': ['Dude isn t tht wht thy used to say abt dhfl yes bank amp in the latters case being a bank would nvr under normal circumstances go bust tThe thesis behind the 2 year survival is assuming the cash on books isn t siphoned off in case of both Rel home fin amp religare the cash vanishd', 'Another feather in hat of ur CS REL now ur team has sent a notice for exclusion cancellation of policy are you guys serious with this mediclaim business and have employed right set of people', 'REL hiii all of you my name is Niranjan singh and I am used religare health insurance and I am submit the application for caleam but religare not responce 2 month I am call to call agents caleam process but not respond why', 'REL We are following the religare from last 8 month but everytime they raise new quires which are irrelevant to case They only want to deny our case And harras us', 'REL DEFICIENCY NOT REPLIED FOR FIRST CONSULTATION FOR HYPERTENSION ECTOPIC RHYTHM AND CARDIOMYOPATHY My Religare Family health insurance id is 10268750 and having a 5Lakh Family health cover The claim id no 90862747 00', 'REL Mera name Sabinur hussan mujhe apna Religare helth insurance cancel karana hai ap mera request le lijiye Mera contact no 8076450521 9971673759', 'REL Can you share proper address with us for grievance', 'worstcustomersupport REL customerfirst'], 'SPMLINFRA': ['timemanagement', 'timemanagement', 'The interview of Mr Subhash Sethi Chairman SPML Infra Limited on power infrastructure development with focus on Substation is published in leading power magazine T amp D India in September 2019 issue Substations Please read it at', 'SPML Infra Limited Resignation', '', 'EngineersDay2019 Engineers', 'My company service M S SAUBHAGYA ARUN INFRA 1 Infrastucture 2 OFC Telecom 3 E amp I 4 O P G W 5 Oil amp Gas 6 Electrical Power 7 Civil TOILET MARVEL SENETARY SYSTEM 8 Different Verticals CCTV 9 FIRE SYSTEM 10 SOLAR POWER UPS amp BATTERIES 11 ELECTRIFICATION WORK MY COMPANY', 'MACHINERY 1 4 HDD18 36TONE 2 4 JCB 3 4WATRETANKER 4 2TRACTOR 5 3HYDRA 3HYDRA ALL INDIA WORK BACK TO BACk MY GROUP MEMBERS MACHINERY 80 Mail ail saubhagyaaruninfra com satishjiindia com 91 8512029298 91 9910429298'], ' fbb_india': ['india How customers receive cashback for your weekend sale promo Nothing mentioned apart from a fbb', 'fbb Colors Femina Miss Grand India 2019 looks stunning as she walks for in red shirt and printed lehenga with shimmering crystals DelhiTimesFashionWeek DTFW DTFW2019', 'Love at first bite Watch Ananya and Roy indulge in PetPujo and some adventures in today s stories Tune in to our PujoPerfect love story on our Instagram stories to experience the Pujo love', 'india I am shopping with image attached offer but while I am checking out then there is full cart value is showing Where I getting this Rs 1000 off and even not getting any coupon so I can pay rest of the amount amp don t spread rumors about such offer Plz reply I m waiting', 'Repost india with get repost Ananya is looking gorgeous and nailing all the Pujo looks Watch our PujoPerfect Love Story to catch all her stunning looks and adorable moments with Roy festive', 'Are you also going to manage or tackle this single use plastic', 'Repost india with get repost After a perfect Pujo shopping day with Roy do you think Ananya will fall in love with him too Tune in tomorrow to find out what happens next in our PujoPerfect Love Story', 'Are you also going to manage or tackle this single use plastic', 'Are you also going to manage or tackle this single use plastic', 'T shirt amp Kurta 2 completely different vibes for Pujo yet equally killer Tell us your favorite Pujo look in the replies below Register on to avail the offer Tune in to our Insta story for PujoPerfect Love Story Click here', 'india They should', 'india Will they consider it', 'india These plastics should be replaced with cotton or foam or recycled papers', 'Are you also going to manage or tackle this single use plastic india And all online shopping sites singleuseplastic', 'Try india']}\n"
          ],
          "name": "stdout"
        }
      ]
    },
    {
      "cell_type": "code",
      "metadata": {
        "id": "s5ykkZBgvbFE",
        "colab_type": "code",
        "outputId": "2b0a213c-bb67-45f9-a566-87fcb6c15154",
        "colab": {
          "base_uri": "https://localhost:8080/",
          "height": 1000
        }
      },
      "source": [
        "\n",
        "#Get Tweets Sentiment, if greater than 0 then positive, if 0 it is neutral, if it is less than zero then the tweet is negative\n",
        "def get_sentiment(tweet_str):\n",
        "  analysis = TextBlob(tweet_str)\n",
        "  print(analysis.sentiment)\n",
        "  return analysis.sentiment.polarity\n",
        "\n",
        "model_sentiment = {}\n",
        "company_score = {} #-1 is more likely to default, +1 is in a good health and will not default\n",
        "for key,value in model_query.items():\n",
        "  \n",
        "  score = 0 \n",
        "  \n",
        "  for i in range(len(value)):\n",
        "    model_sentiment[value[i]] = get_sentiment(value[i])\n",
        "    \n",
        "  for key1,value1 in model_sentiment.items():\n",
        "    score += value1\n",
        "    \n",
        "  company_score[key] = score  \n",
        "  \n",
        "print(company_score)\n",
        "  \n",
        "       "
      ],
      "execution_count": 0,
      "outputs": [
        {
          "output_type": "stream",
          "text": [
            "Sentiment(polarity=0.6, subjectivity=0.9333333333333332)\n",
            "Sentiment(polarity=0.1, subjectivity=0.0)\n",
            "Sentiment(polarity=0.0, subjectivity=0.0)\n",
            "Sentiment(polarity=0.0, subjectivity=0.0)\n",
            "Sentiment(polarity=0.0, subjectivity=0.0)\n",
            "Sentiment(polarity=0.0, subjectivity=0.0)\n",
            "Sentiment(polarity=0.0, subjectivity=0.0)\n",
            "Sentiment(polarity=0.0, subjectivity=0.0)\n",
            "Sentiment(polarity=0.0, subjectivity=0.0)\n",
            "Sentiment(polarity=0.0, subjectivity=0.0)\n",
            "Sentiment(polarity=0.5785714285714286, subjectivity=0.6607142857142857)\n",
            "Sentiment(polarity=0.0, subjectivity=0.0)\n",
            "Sentiment(polarity=0.0, subjectivity=0.0)\n",
            "Sentiment(polarity=0.0, subjectivity=0.0)\n",
            "Sentiment(polarity=0.0, subjectivity=0.0)\n",
            "Sentiment(polarity=0.0, subjectivity=0.0)\n",
            "Sentiment(polarity=0.0, subjectivity=0.0)\n",
            "Sentiment(polarity=0.0, subjectivity=0.0)\n",
            "Sentiment(polarity=0.0, subjectivity=0.0)\n",
            "Sentiment(polarity=0.5, subjectivity=1.0)\n",
            "Sentiment(polarity=0.8, subjectivity=1.0)\n",
            "Sentiment(polarity=0.0, subjectivity=0.0)\n",
            "Sentiment(polarity=0.0, subjectivity=0.0)\n",
            "Sentiment(polarity=1.0, subjectivity=1.0)\n",
            "Sentiment(polarity=0.0, subjectivity=0.0)\n",
            "Sentiment(polarity=0.0, subjectivity=0.0)\n",
            "Sentiment(polarity=0.0, subjectivity=0.0)\n",
            "Sentiment(polarity=0.0, subjectivity=0.0)\n",
            "Sentiment(polarity=0.0, subjectivity=0.0)\n",
            "Sentiment(polarity=0.0, subjectivity=0.0)\n",
            "Sentiment(polarity=0.0, subjectivity=0.0)\n",
            "Sentiment(polarity=0.0, subjectivity=0.0)\n",
            "Sentiment(polarity=0.0, subjectivity=0.0)\n",
            "Sentiment(polarity=0.2142857142857143, subjectivity=0.5089285714285714)\n",
            "Sentiment(polarity=0.0, subjectivity=0.0)\n",
            "Sentiment(polarity=0.16666666666666666, subjectivity=0.5)\n",
            "Sentiment(polarity=0.2, subjectivity=0.2)\n",
            "Sentiment(polarity=-0.125, subjectivity=0.375)\n",
            "Sentiment(polarity=-0.125, subjectivity=0.375)\n",
            "Sentiment(polarity=0.0, subjectivity=0.0)\n",
            "Sentiment(polarity=0.0, subjectivity=0.0)\n",
            "Sentiment(polarity=-0.3, subjectivity=0.5)\n",
            "Sentiment(polarity=0.0, subjectivity=0.0)\n",
            "Sentiment(polarity=0.4444444444444444, subjectivity=0.6555555555555556)\n",
            "Sentiment(polarity=0.0, subjectivity=0.0)\n",
            "Sentiment(polarity=0.4444444444444444, subjectivity=0.6555555555555556)\n",
            "Sentiment(polarity=0.0, subjectivity=0.0)\n",
            "Sentiment(polarity=0.0, subjectivity=0.0)\n",
            "Sentiment(polarity=0.0, subjectivity=0.0)\n",
            "Sentiment(polarity=0.0, subjectivity=0.0)\n",
            "Sentiment(polarity=0.0, subjectivity=0.0)\n",
            "Sentiment(polarity=0.0, subjectivity=0.0)\n",
            "Sentiment(polarity=0.0, subjectivity=0.25)\n",
            "Sentiment(polarity=0.0, subjectivity=0.25)\n",
            "Sentiment(polarity=0.0, subjectivity=0.25)\n",
            "Sentiment(polarity=0.0, subjectivity=0.0)\n",
            "Sentiment(polarity=0.0, subjectivity=0.25)\n",
            "Sentiment(polarity=0.0, subjectivity=0.0)\n",
            "Sentiment(polarity=0.07500000000000001, subjectivity=0.15000000000000002)\n",
            "Sentiment(polarity=0.0, subjectivity=0.0)\n",
            "Sentiment(polarity=0.0, subjectivity=0.25)\n",
            "Sentiment(polarity=0.0, subjectivity=0.0)\n",
            "Sentiment(polarity=0.0, subjectivity=0.25)\n",
            "Sentiment(polarity=0.5, subjectivity=0.5)\n",
            "Sentiment(polarity=0.0, subjectivity=0.0)\n",
            "Sentiment(polarity=0.0, subjectivity=0.25)\n",
            "Sentiment(polarity=-0.125, subjectivity=0.6749999999999999)\n",
            "Sentiment(polarity=-0.023809523809523808, subjectivity=0.6011904761904762)\n",
            "Sentiment(polarity=0.0, subjectivity=0.0)\n",
            "Sentiment(polarity=-0.07272727272727272, subjectivity=0.5242424242424242)\n",
            "Sentiment(polarity=0.25, subjectivity=0.3333333333333333)\n",
            "Sentiment(polarity=0.0, subjectivity=0.0)\n",
            "Sentiment(polarity=0.0, subjectivity=0.1)\n",
            "Sentiment(polarity=0.0, subjectivity=0.0)\n",
            "Sentiment(polarity=0.0, subjectivity=0.0)\n",
            "Sentiment(polarity=0.0, subjectivity=0.0)\n",
            "Sentiment(polarity=-0.07142857142857142, subjectivity=0.14285714285714285)\n",
            "Sentiment(polarity=-0.07142857142857142, subjectivity=0.14285714285714285)\n",
            "Sentiment(polarity=0.0, subjectivity=0.0)\n",
            "Sentiment(polarity=0.0, subjectivity=0.0)\n",
            "Sentiment(polarity=-0.016666666666666666, subjectivity=0.3)\n",
            "Sentiment(polarity=0.0, subjectivity=0.0)\n",
            "Sentiment(polarity=0.0, subjectivity=0.0)\n",
            "Sentiment(polarity=0.3333333333333333, subjectivity=0.6666666666666666)\n",
            "Sentiment(polarity=0.4375, subjectivity=0.5333333333333333)\n",
            "Sentiment(polarity=0.175, subjectivity=0.525)\n",
            "Sentiment(polarity=0.55, subjectivity=0.875)\n",
            "Sentiment(polarity=-0.07142857142857142, subjectivity=0.21428571428571427)\n",
            "Sentiment(polarity=0.5, subjectivity=0.55)\n",
            "Sentiment(polarity=-0.07142857142857142, subjectivity=0.21428571428571427)\n",
            "Sentiment(polarity=-0.07142857142857142, subjectivity=0.21428571428571427)\n",
            "Sentiment(polarity=0.25, subjectivity=0.6125)\n",
            "Sentiment(polarity=0.0, subjectivity=0.0)\n",
            "Sentiment(polarity=0.0, subjectivity=0.0)\n",
            "Sentiment(polarity=0.0, subjectivity=0.0)\n",
            "Sentiment(polarity=-0.07142857142857142, subjectivity=0.21428571428571427)\n",
            "Sentiment(polarity=0.0, subjectivity=0.0)\n",
            "{'KhazanaOfficial': 0.7, ' PypAyurved': 1.2785714285714285, ' Balco_India': 3.5785714285714283, ' Ninlsteel': 3.9595238095238092, ' MotherDairyMilk': 4.053968253968254, ' NuvocoVistas': 4.628968253968254, ' Religare_REL': 4.657431457431458, 'SPMLINFRA': 4.497907647907649, ' fbb_india': 6.600883838383839}\n"
          ],
          "name": "stdout"
        }
      ]
    },
    {
      "cell_type": "code",
      "metadata": {
        "id": "5MfdB93wSx9z",
        "colab_type": "code",
        "outputId": "c734e46e-07d5-4057-9048-4d699dd8660a",
        "colab": {
          "base_uri": "https://localhost:8080/",
          "height": 54
        }
      },
      "source": [
        "#print(\"Score for the company {0}\".format(score))\n",
        "for key2,value2 in company_score.items():\n",
        "  avg_score = value2 / max_tweets\n",
        "  company_score[key2] = avg_score\n",
        "print(company_score)\n",
        "\n"
      ],
      "execution_count": 0,
      "outputs": [
        {
          "output_type": "stream",
          "text": [
            "{'KhazanaOfficial': 0.04666666666666666, ' PypAyurved': 0.08523809523809524, ' Balco_India': 0.23857142857142855, ' Ninlsteel': 0.26396825396825396, ' MotherDairyMilk': 0.27026455026455026, ' NuvocoVistas': 0.3085978835978836, ' Religare_REL': 0.31049543049543055, 'SPMLINFRA': 0.29986050986050994, ' fbb_india': 0.4400589225589226}\n"
          ],
          "name": "stdout"
        }
      ]
    },
    {
      "cell_type": "code",
      "metadata": {
        "id": "m5x8J3a2kHI4",
        "colab_type": "code",
        "outputId": "ff3989f6-a97e-4d95-ae5f-b00f54a80df1",
        "colab": {
          "base_uri": "https://localhost:8080/",
          "height": 107
        }
      },
      "source": [
        "import math\n",
        "print(\"Probability of Default after the next six months !\")\n",
        "defaulters = []\n",
        "for key2,value2 in company_score.items():\n",
        "  frac, whole = math.modf(value2)\n",
        "  perc = frac * 100  \n",
        "  if(perc < 0):\n",
        "    defaulters.append(key2)\n",
        "  company_score[key2] = perc\n",
        "print(company_score)\n",
        "print(\"The companies likely to default based on the publicly available data!\")\n",
        "print(defaulters)"
      ],
      "execution_count": 0,
      "outputs": [
        {
          "output_type": "stream",
          "text": [
            "Probability of Default after the next six months !\n",
            "{'KhazanaOfficial': 4.666666666666666, ' PypAyurved': 8.523809523809524, ' Balco_India': 23.857142857142854, ' Ninlsteel': 26.396825396825395, ' MotherDairyMilk': 27.026455026455025, ' NuvocoVistas': 30.85978835978836, ' Religare_REL': 31.049543049543054, 'SPMLINFRA': 29.986050986050994, ' fbb_india': 44.005892255892256}\n",
            "The companies likely to default based on the publicly available data!\n",
            "[]\n"
          ],
          "name": "stdout"
        }
      ]
    },
    {
      "cell_type": "code",
      "metadata": {
        "id": "kTKhv73e9YDs",
        "colab_type": "code",
        "colab": {}
      },
      "source": [
        ""
      ],
      "execution_count": 0,
      "outputs": []
    }
  ]
}